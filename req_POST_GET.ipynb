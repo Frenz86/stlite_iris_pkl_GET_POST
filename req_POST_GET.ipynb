{
 "cells": [
  {
   "cell_type": "code",
   "execution_count": 23,
   "metadata": {},
   "outputs": [
    {
     "name": "stdout",
     "output_type": "stream",
     "text": [
      "\"https://stliteiris.herokuapp.com/predict?feature1=2&feature2=3.2&feature3=1.2&feature4=1.6\"\n",
      "setosa\n"
     ]
    }
   ],
   "source": [
    "### GET\n",
    "import requests\n",
    "url = \"https://stliteiris.herokuapp.com/predict\"\n",
    "\n",
    "data = {\n",
    "        \"feature1\": 2,\n",
    "        \"feature2\": 3.2,\n",
    "        \"feature3\": 1.2,\n",
    "        \"feature4\": 1.6,\n",
    "        }\n",
    "\n",
    "data_keys = data.keys()\n",
    "data_values = data.values()\n",
    "url2 =\"&\".join(\"{0}={1}\".format(x,y) for x,y in zip(data_keys,data_values))\n",
    "link = url+\"?\"+url2\n",
    "\n",
    "response = requests.get(link).json()\n",
    "print('\"{}\"'.format(link))\n",
    "print(response)"
   ]
  },
  {
   "cell_type": "code",
   "execution_count": 27,
   "metadata": {},
   "outputs": [
    {
     "name": "stdout",
     "output_type": "stream",
     "text": [
      "<Response [200]>\n",
      "\"setosa\"\n"
     ]
    }
   ],
   "source": [
    "### POST\n",
    "import requests\n",
    "import json\n",
    "\n",
    "url = \"https://stliteiris.herokuapp.com/predict\"\n",
    "\n",
    "data = {\n",
    "        \"feature1\": 2,\n",
    "        \"feature2\": 3.2,\n",
    "        \"feature3\": 1.2,\n",
    "        \"feature4\": 1.6,\n",
    "        }\n",
    "\n",
    "data_json = json.dumps(data)\n",
    "headers = {'Content-type': 'application/json', 'Accept': 'text/html'}\n",
    "\n",
    "response = requests.post(url,data_json,headers)\n",
    "print(response)\n",
    "print(response.text)"
   ]
  },
  {
   "cell_type": "code",
   "execution_count": null,
   "metadata": {},
   "outputs": [],
   "source": []
  }
 ],
 "metadata": {
  "kernelspec": {
   "display_name": "Python 3.8.4 64-bit",
   "language": "python",
   "name": "python3"
  },
  "language_info": {
   "codemirror_mode": {
    "name": "ipython",
    "version": 3
   },
   "file_extension": ".py",
   "mimetype": "text/x-python",
   "name": "python",
   "nbconvert_exporter": "python",
   "pygments_lexer": "ipython3",
   "version": "3.8.4"
  },
  "orig_nbformat": 4,
  "vscode": {
   "interpreter": {
    "hash": "8d19b764d49e1dcc271e9a882564bf910ed3916f9785cce1f7e4046018fe4dea"
   }
  }
 },
 "nbformat": 4,
 "nbformat_minor": 2
}
